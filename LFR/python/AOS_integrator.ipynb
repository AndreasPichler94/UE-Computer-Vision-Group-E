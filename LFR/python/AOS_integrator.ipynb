{
 "cells": [
  {
   "cell_type": "code",
   "execution_count": 16,
   "metadata": {
    "ExecuteTime": {
     "end_time": "2023-12-22T12:20:48.387155Z",
     "start_time": "2023-12-22T12:20:48.365154400Z"
    }
   },
   "outputs": [
    {
     "name": "stdout",
     "output_type": "stream",
     "text": [
      "Download Location: C:\\Users\\andreaspichler\\Desktop\\Computer-Vision-Project\\LFR\\results\n",
      "The directory 'C:\\Users\\andreaspichler\\Desktop\\Computer-Vision-Project\\LFR\\results\\integrals' already exists.\n"
     ]
    }
   ],
   "source": [
    "import numpy as np\n",
    "import cv2\n",
    "import os\n",
    "import math\n",
    "import glm\n",
    "import pyaos\n",
    "\n",
    "# Get the path of the current script or module if available\n",
    "try:\n",
    "    script_path = os.path.abspath(__file__)\n",
    "except NameError:\n",
    "    script_path = None\n",
    "\n",
    "if script_path is not None:\n",
    "    Download_Location = os.path.abspath(os.path.join(os.path.dirname(os.path.dirname(script_path)), 'results'))\n",
    "else:\n",
    "    Download_Location = os.path.abspath(os.path.join(os.getcwd(), '..', 'results'))\n",
    "\n",
    "print(\"Download Location:\", Download_Location)\n",
    "\n",
    "Integral_Path = os.path.join(Download_Location, 'integrals')\n",
    "\n",
    "if not os.path.exists(Integral_Path):\n",
    "    os.mkdir(Integral_Path)\n",
    "else:\n",
    "    print(f\"The directory '{Integral_Path}' already exists.\")"
   ]
  },
  {
   "cell_type": "code",
   "execution_count": null,
   "outputs": [],
   "source": [
    "import pyaos\n",
    "\n",
    "#############################Start the AOS Renderer###############################################################\n",
    "w,h,fovDegrees = 512, 512, 50 # # resolution and field of view. This should not be changed.\n",
    "render_fov = 50\n",
    "\n",
    "if 'window' not in locals() or window == None:\n",
    "                                    \n",
    "    window = pyaos.PyGlfwWindow( w, h, 'AOS' )  \n",
    "     \n",
    "aos = pyaos.PyAOS(w,h,fovDegrees) \n",
    "\n",
    "set_folder = os.path.abspath(os.path.join(os.path.abspath(os.path.dirname(__file__)), os.pardir, 'python'))\n",
    "aos.loadDEM(os.path.join(set_folder,'zero_plane.obj'))\n",
    "####################################################################################################################"
   ],
   "metadata": {
    "collapsed": false,
    "is_executing": true,
    "ExecuteTime": {
     "start_time": "2023-12-22T12:20:52.178155300Z"
    }
   }
  },
  {
   "cell_type": "code",
   "execution_count": 1,
   "metadata": {
    "ExecuteTime": {
     "end_time": "2023-12-22T12:20:58.651158Z",
     "start_time": "2023-12-22T12:20:58.632192900Z"
    }
   },
   "outputs": [],
   "source": [
    "#############################Create Poses for Initial Positions###############################################################\n",
    "\n",
    "# Below are certain functions required to convert the poses to a certain format to be compatabile with the AOS Renderer.\n",
    "\n",
    "def eul2rotm(theta) :\n",
    "    s_1 = math.sin(theta[0])\n",
    "    c_1 = math.cos(theta[0]) \n",
    "    s_2 = math.sin(theta[1]) \n",
    "    c_2 = math.cos(theta[1]) \n",
    "    s_3 = math.sin(theta[2]) \n",
    "    c_3 = math.cos(theta[2])\n",
    "    rotm = np.identity(3)\n",
    "    rotm[0,0] =  c_1*c_2\n",
    "    rotm[0,1] =  c_1*s_2*s_3 - s_1*c_3\n",
    "    rotm[0,2] =  c_1*s_2*c_3 + s_1*s_3\n",
    "\n",
    "    rotm[1,0] =  s_1*c_2\n",
    "    rotm[1,1] =  s_1*s_2*s_3 + c_1*c_3\n",
    "    rotm[1,2] =  s_1*s_2*c_3 - c_1*s_3\n",
    "\n",
    "    rotm[2,0] = -s_2\n",
    "    rotm[2,1] =  c_2*s_3\n",
    "    rotm[2,2] =  c_2*c_3        \n",
    "\n",
    "    return rotm\n",
    "\n",
    "def createviewmateuler(eulerang, camLocation):\n",
    "    \n",
    "    rotationmat = eul2rotm(eulerang)\n",
    "    translVec =  np.reshape((-camLocation @ rotationmat),(3,1))\n",
    "    conjoinedmat = (np.append(np.transpose(rotationmat), translVec, axis=1))\n",
    "    return conjoinedmat\n",
    "\n",
    "def divide_by_alpha(rimg2):\n",
    "        a = np.stack((rimg2[:,:,3],rimg2[:,:,3],rimg2[:,:,3]),axis=-1)\n",
    "        return rimg2[:,:,:3]/a\n",
    "\n",
    "def pose_to_virtualcamera(vpose ):\n",
    "    vp = glm.mat4(*np.array(vpose).transpose().flatten())\n",
    "    #vp = vpose.copy()\n",
    "    ivp = glm.inverse(glm.transpose(vp))\n",
    "    #ivp = glm.inverse(vpose)\n",
    "    Posvec = glm.vec3(ivp[3])\n",
    "    Upvec = glm.vec3(ivp[1])\n",
    "    FrontVec = glm.vec3(ivp[2])\n",
    "    lookAt = glm.lookAt(Posvec, Posvec + FrontVec, Upvec)\n",
    "    cameraviewarr = np.asarray(lookAt)\n",
    "    #print(cameraviewarr)\n",
    "    return cameraviewarr  "
   ]
  },
  {
   "cell_type": "code",
   "execution_count": null,
   "metadata": {
    "is_executing": true,
    "ExecuteTime": {
     "start_time": "2023-12-22T12:22:35.567154600Z"
    }
   },
   "outputs": [],
   "source": [
    "from LFR.python.AOS_integrator import training_data_path\n",
    "import numpy as np\n",
    "import math\n",
    "import os\n",
    "import re\n",
    "import glob\n",
    "\n",
    "########################## Below we generate the poses for rendering #####################################\n",
    "# This is based on how renderer is implemented. \n",
    "\n",
    "Numberofimages = 11  # Or just the number of images\n",
    "Focal_plane = 0      # Focal plane is set to the ground so it is zero.\n",
    "\n",
    "# ref_loc is the reference location or the poses of the images. The poses are the same for the dataset and therefore only the images have to be replaced.\n",
    "ref_loc = [[5,4,3,2,1,0,-1,-2,-3,-4,-5],[0,0,0,0,0,0,0,0,0,0,0]]   # These are the x and y positions of the images. It is of the form [[x_positions],[y_positions]]\n",
    "\n",
    "altitude_list = [35,35,35,35,35,35,35,35,35,35,35] # [Z values which is the height]\n",
    "\n",
    "center_index = 5  # this is important, this will be the pose index at which the integration should happen. For example if you have 5 images, lets say you want to integrate all 5 images to the second image position. Then your center_index is 1 as index starts from zero.\n",
    "\n",
    "site_poses = []\n",
    "for i in range(Numberofimages):\n",
    "    EastCentered = (ref_loc[0][i] - 0.0)    #Get MeanEast and Set MeanEast\n",
    "    NorthCentered = (0.0 - ref_loc[1][i])   #Get MeanNorth and Set MeanNorth\n",
    "    M = createviewmateuler(np.array([0.0, 0.0, 0.0]),np.array( [ref_loc[0][i], ref_loc[1][i], - altitude_list[i]] ))\n",
    "    print('m',M)\n",
    "    ViewMatrix = np.vstack((M, np.array([0.0,0.0,0.0,1.0],dtype=np.float32)))\n",
    "    print(ViewMatrix)\n",
    "    camerapose = np.asarray(ViewMatrix.transpose(),dtype=np.float32)\n",
    "    print(camerapose)\n",
    "    site_poses.append(camerapose)           # site_poses is a list now containing all the poses of all the images in a certain format that is accecpted by the renderer.\n",
    "    \n",
    "#############################Read the generated images from the simulator and store in a list ###############################################################\n",
    "\n",
    "numbers = re.compile(r'(\\d+)')\n",
    "def numericalSort(value):\n",
    "    parts = numbers.split(value)\n",
    "    parts[1::2] = map(int, parts[1::2])\n",
    "    return parts\n",
    "\n",
    "imagelist = []\n",
    "\n",
    "\n",
    "for img in sorted(glob.glob(os.path.join(training_data_path, '*.png')), key = numericalSort):\n",
    "    n= cv2.imread(img)\n",
    "    imagelist.append(n)\n",
    "\n",
    "aos.clearViews()   # Every time you call the renderer you should use this line to clear the previous views  \n",
    "for i in range(len(imagelist)):\n",
    "        aos.addView(imagelist[i], site_poses[i], \"DEM BlobTrack\")  # Here we are adding images to the renderer one by one.\n",
    "aos.setDEMTransform([0,0,Focal_plane])\n",
    "\n",
    "proj_RGBimg = aos.render(pose_to_virtualcamera(site_poses[center_index]), render_fov)\n",
    "tmp_RGB = divide_by_alpha(proj_RGBimg)\n",
    "cv2.imwrite(os.path.join(Integral_Path, 'integral.png'), tmp_RGB)   # Final result. Check the integral result in the integrals folder."
   ]
  }
 ],
 "metadata": {
  "kernelspec": {
   "display_name": "Python 3",
   "language": "python",
   "name": "python3"
  },
  "language_info": {
   "codemirror_mode": {
    "name": "ipython",
    "version": 3
   },
   "file_extension": ".py",
   "mimetype": "text/x-python",
   "name": "python",
   "nbconvert_exporter": "python",
   "pygments_lexer": "ipython3",
   "version": "3.7.9"
  },
  "orig_nbformat": 4,
  "vscode": {
   "interpreter": {
    "hash": "c0546a8624a4a236bae0f9fea37c96b2936c9ad1821cd89b71f7783537db0568"
   }
  }
 },
 "nbformat": 4,
 "nbformat_minor": 2
}
