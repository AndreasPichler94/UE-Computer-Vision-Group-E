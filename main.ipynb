{
 "cells": [
  {
   "cell_type": "markdown",
   "metadata": {},
   "source": [
    "# Data Preparation"
   ]
  },
  {
   "cell_type": "code",
   "execution_count": 36,
   "outputs": [
    {
     "name": "stdout",
     "output_type": "stream",
     "text": [
      "Sequence 3 deleted due to missing file: 0_3_pose_0_thermal.png\n",
      "Total sequences after renaming: 2\n"
     ]
    }
   ],
   "source": [
    "import os\n",
    "\n",
    "last_valid_sequence = None\n",
    "\n",
    "def get_expected_files(current_index):\n",
    "    expected_files = set()\n",
    "    for i in range(11):\n",
    "        expected_files.add(f'0_{current_index}_pose_{i}_thermal.png')\n",
    "    expected_files.add(f'0_{current_index}_Parameters.txt')\n",
    "    expected_files.add(f'0_{current_index}_GT_pose_0_thermal.png')\n",
    "    return expected_files\n",
    "\n",
    "def rename_files(current_index):\n",
    "    expected_files = get_expected_files(current_index)\n",
    "    for expected_file in expected_files:\n",
    "        old_path = os.path.join(directory_path, expected_file)\n",
    "        new_index = last_valid_sequence + 1\n",
    "        new_file = expected_file.replace(f'0_{current_index}', f'0_{new_index}')\n",
    "        new_path = os.path.join(directory_path, new_file)\n",
    "        os.rename(old_path, new_path)\n",
    "    print(f\"Renamed sequences with index {current_index} to {last_valid_sequence + 1}.\")\n",
    "    return new_index\n",
    "\n",
    "def cleanup_data():\n",
    "    global last_valid_sequence\n",
    "    invalid_sequences_found = False\n",
    "    \n",
    "    for current_index in range(5000):\n",
    "        expected_files = get_expected_files(current_index)\n",
    "        missing_file = None\n",
    "        found_files = [file_name for file_name in expected_files if os.path.exists(os.path.join(directory_path, file_name))]\n",
    "\n",
    "        if len(found_files) > 0:\n",
    "            for file_name in expected_files:\n",
    "                full_path = os.path.join(directory_path, file_name)\n",
    "                if not os.path.exists(full_path):\n",
    "                    missing_file = file_name\n",
    "                    break\n",
    "\n",
    "            if missing_file is not None:\n",
    "                invalid_sequences_found = True\n",
    "                for delete_file in expected_files:\n",
    "                    delete_path = os.path.join(directory_path, delete_file)\n",
    "                    if os.path.exists(delete_path):\n",
    "                        os.remove(delete_path)\n",
    "                print(f\"Sequence {current_index} deleted due to missing file: {missing_file}\")\n",
    "            else:\n",
    "                if current_index != 0 and (current_index - last_valid_sequence) > 1:\n",
    "                    last_valid_sequence = rename_files(current_index)\n",
    "                else:\n",
    "                    last_valid_sequence = current_index\n",
    "\n",
    "    if not invalid_sequences_found:\n",
    "        print(\"No invalid sequences found.\")\n",
    "        \n",
    "    print(f\"Total sequences after renaming: {last_valid_sequence + 1}\")\n",
    "\n",
    "if __name__ == \"__main__\":\n",
    "    directory_path = \"C:\\\\Users\\\\andreaspichler\\\\Desktop\\\\Test\"\n",
    "    cleanup_data()\n"
   ],
   "metadata": {
    "collapsed": false,
    "ExecuteTime": {
     "end_time": "2023-12-21T12:05:13.432172700Z",
     "start_time": "2023-12-21T12:05:10.880168300Z"
    }
   }
  },
  {
   "cell_type": "markdown",
   "metadata": {},
   "source": [
    "# AOS"
   ]
  },
  {
   "cell_type": "code",
   "execution_count": null,
   "metadata": {},
   "outputs": [],
   "source": []
  },
  {
   "cell_type": "markdown",
   "metadata": {},
   "source": [
    "# Model"
   ]
  },
  {
   "cell_type": "code",
   "execution_count": null,
   "metadata": {},
   "outputs": [],
   "source": []
  }
 ],
 "metadata": {
  "kernelspec": {
   "display_name": "Python 3 (ipykernel)",
   "language": "python",
   "name": "python3"
  },
  "language_info": {
   "codemirror_mode": {
    "name": "ipython",
    "version": 3
   },
   "file_extension": ".py",
   "mimetype": "text/x-python",
   "name": "python",
   "nbconvert_exporter": "python",
   "pygments_lexer": "ipython3",
   "version": "3.10.9"
  }
 },
 "nbformat": 4,
 "nbformat_minor": 4
}
